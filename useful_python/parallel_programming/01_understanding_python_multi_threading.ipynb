{
 "cells": [
  {
   "cell_type": "markdown",
   "metadata": {},
   "source": [
    "### 1. Parallel operattion : run simultaneously\n",
    "\n",
    "- python built-ins\n",
    "    1. Multithreading : GIL(Global Interpreter Lock) prevents multiple threads from accessing the same python obejct simultaneously. So second thread must wait for the first thread to release the GIL."
   ]
  },
  {
   "cell_type": "code",
   "execution_count": 1,
   "metadata": {},
   "outputs": [],
   "source": [
    "import threading"
   ]
  },
  {
   "cell_type": "code",
   "execution_count": 2,
   "metadata": {},
   "outputs": [],
   "source": [
    "def count():\n",
    "    x  = 0\n",
    "    while x < 10000000:\n",
    "        x += 1"
   ]
  },
  {
   "cell_type": "code",
   "execution_count": 3,
   "metadata": {},
   "outputs": [],
   "source": [
    "# multi-threading\n",
    "def multithreading_run():\n",
    "    thread_1 = threading.Thread(target=count)\n",
    "    thread_2 = threading.Thread(target=count)    \n",
    "    thread_1.start()\n",
    "    thread_2.start()\n",
    "    thread_1.join()\n",
    "    thread_2.join()"
   ]
  },
  {
   "cell_type": "code",
   "execution_count": 4,
   "metadata": {},
   "outputs": [],
   "source": [
    "def serial_run():\n",
    "    count()\n",
    "    count()"
   ]
  },
  {
   "cell_type": "code",
   "execution_count": 5,
   "metadata": {},
   "outputs": [
    {
     "name": "stdout",
     "output_type": "stream",
     "text": [
      "CPU times: user 1.31 s, sys: 10 ms, total: 1.32 s\n",
      "Wall time: 1.31 s\n"
     ]
    }
   ],
   "source": [
    "%time multithreading_run()"
   ]
  },
  {
   "cell_type": "code",
   "execution_count": 6,
   "metadata": {},
   "outputs": [
    {
     "name": "stdout",
     "output_type": "stream",
     "text": [
      "CPU times: user 1.14 s, sys: 1.72 ms, total: 1.14 s\n",
      "Wall time: 1.14 s\n"
     ]
    }
   ],
   "source": [
    "%time serial_run()"
   ]
  },
  {
   "cell_type": "markdown",
   "metadata": {},
   "source": [
    "    2. Multiprocessing : "
   ]
  },
  {
   "cell_type": "code",
   "execution_count": 7,
   "metadata": {},
   "outputs": [],
   "source": [
    "import multiprocessing"
   ]
  },
  {
   "cell_type": "code",
   "execution_count": 8,
   "metadata": {},
   "outputs": [],
   "source": [
    "def multiprocessing_run():\n",
    "    process_1 = multiprocessing.Process(target=count)\n",
    "    process_2 = multiprocessing.Process(target=count)    \n",
    "    process_1.start()\n",
    "    process_2.start()\n",
    "    process_1.join()\n",
    "    process_2.join()"
   ]
  },
  {
   "cell_type": "code",
   "execution_count": 9,
   "metadata": {},
   "outputs": [
    {
     "name": "stdout",
     "output_type": "stream",
     "text": [
      "CPU times: user 2.08 ms, sys: 5.26 ms, total: 7.34 ms\n",
      "Wall time: 590 ms\n"
     ]
    }
   ],
   "source": [
    "%time multiprocessing_run()"
   ]
  },
  {
   "cell_type": "markdown",
   "metadata": {},
   "source": [
    "### Utilizing Pool"
   ]
  },
  {
   "cell_type": "code",
   "execution_count": 10,
   "metadata": {},
   "outputs": [],
   "source": [
    "import collections\n",
    "\n",
    "student = collections.namedtuple('student', ['name', 'year'])\n",
    "students = (\n",
    "    student(name='Lee', year='2007'),\n",
    "    student(name='Kim', year='2017'),\n",
    "    student(name='Park', year='2002'),\n",
    "    student(name='Jung', year='2003'),\n",
    "    student(name='Cha', year='2004'),\n",
    "    student(name='Na', year='2010'),\n",
    "    student(name='Kang', year='2001'),    \n",
    "    student(name='Yoon', year='2014'),\n",
    "    student(name='You', year='2016'),    \n",
    ")"
   ]
  },
  {
   "cell_type": "code",
   "execution_count": 11,
   "metadata": {},
   "outputs": [
    {
     "name": "stdout",
     "output_type": "stream",
     "text": [
      "2019\n"
     ]
    }
   ],
   "source": [
    "import time\n",
    "current_year = int(time.strftime(\"%Y\"))\n",
    "print(str(current_year))\n",
    "\n",
    "def calculate_years_from_graudate(stu):\n",
    "    return {\n",
    "        'name': stu.name,\n",
    "        'year': current_year - int(stu.year)\n",
    "    }"
   ]
  },
  {
   "cell_type": "code",
   "execution_count": 12,
   "metadata": {},
   "outputs": [],
   "source": [
    "def multi_pool_run():\n",
    "    pool = multiprocessing.Pool()\n",
    "    pool.map(calculate_years_from_graudate, students)"
   ]
  },
  {
   "cell_type": "code",
   "execution_count": 13,
   "metadata": {},
   "outputs": [
    {
     "name": "stdout",
     "output_type": "stream",
     "text": [
      "CPU times: user 10.5 ms, sys: 19.8 ms, total: 30.3 ms\n",
      "Wall time: 31.3 ms\n"
     ]
    }
   ],
   "source": [
    "%time multi_pool_run()"
   ]
  },
  {
   "cell_type": "code",
   "execution_count": 14,
   "metadata": {},
   "outputs": [
    {
     "name": "stdout",
     "output_type": "stream",
     "text": [
      "CPU times: user 16 µs, sys: 4 µs, total: 20 µs\n",
      "Wall time: 22.9 µs\n"
     ]
    },
    {
     "data": {
      "text/plain": [
       "[{'name': 'Lee', 'year': 12},\n",
       " {'name': 'Kim', 'year': 2},\n",
       " {'name': 'Park', 'year': 17},\n",
       " {'name': 'Jung', 'year': 16},\n",
       " {'name': 'Cha', 'year': 15},\n",
       " {'name': 'Na', 'year': 9},\n",
       " {'name': 'Kang', 'year': 18},\n",
       " {'name': 'Yoon', 'year': 5},\n",
       " {'name': 'You', 'year': 3}]"
      ]
     },
     "execution_count": 14,
     "metadata": {},
     "output_type": "execute_result"
    }
   ],
   "source": [
    "%time list(map(lambda x: calculate_years_from_graudate(x), students))"
   ]
  },
  {
   "cell_type": "markdown",
   "metadata": {},
   "source": [
    "### With pandas Dataframe"
   ]
  },
  {
   "cell_type": "code",
   "execution_count": 15,
   "metadata": {},
   "outputs": [],
   "source": [
    "import pandas as pd"
   ]
  },
  {
   "cell_type": "code",
   "execution_count": 16,
   "metadata": {},
   "outputs": [],
   "source": [
    "chem_ds = pd.read_csv('/Users/grace/workspace/bio_dataset/chemical2pubtator/chemical2pubtator.gz',\\\n",
    "                        compression='gzip', sep='\\t', quotechar='\"')"
   ]
  },
  {
   "cell_type": "code",
   "execution_count": 17,
   "metadata": {},
   "outputs": [
    {
     "data": {
      "text/html": [
       "<div>\n",
       "<style scoped>\n",
       "    .dataframe tbody tr th:only-of-type {\n",
       "        vertical-align: middle;\n",
       "    }\n",
       "\n",
       "    .dataframe tbody tr th {\n",
       "        vertical-align: top;\n",
       "    }\n",
       "\n",
       "    .dataframe thead th {\n",
       "        text-align: right;\n",
       "    }\n",
       "</style>\n",
       "<table border=\"1\" class=\"dataframe\">\n",
       "  <thead>\n",
       "    <tr style=\"text-align: right;\">\n",
       "      <th></th>\n",
       "      <th>PMID</th>\n",
       "      <th>MeshID</th>\n",
       "      <th>Mentions</th>\n",
       "      <th>Resource</th>\n",
       "    </tr>\n",
       "  </thead>\n",
       "  <tbody>\n",
       "    <tr>\n",
       "      <th>0</th>\n",
       "      <td>1</td>\n",
       "      <td>MESH:D000432</td>\n",
       "      <td>methanol</td>\n",
       "      <td>tmChem|MESH</td>\n",
       "    </tr>\n",
       "    <tr>\n",
       "      <th>1</th>\n",
       "      <td>1</td>\n",
       "      <td>MESH:D005561</td>\n",
       "      <td>Formate</td>\n",
       "      <td>MESH</td>\n",
       "    </tr>\n",
       "    <tr>\n",
       "      <th>2</th>\n",
       "      <td>10</td>\n",
       "      <td>MESH:D004074</td>\n",
       "      <td>Digitoxin</td>\n",
       "      <td>MESH</td>\n",
       "    </tr>\n",
       "    <tr>\n",
       "      <th>3</th>\n",
       "      <td>1000</td>\n",
       "      <td>MESH:D009249</td>\n",
       "      <td>NADP</td>\n",
       "      <td>MESH</td>\n",
       "    </tr>\n",
       "    <tr>\n",
       "      <th>4</th>\n",
       "      <td>1000001</td>\n",
       "      <td>MESH:D002118</td>\n",
       "      <td>calcium</td>\n",
       "      <td>tmChem|MESH</td>\n",
       "    </tr>\n",
       "  </tbody>\n",
       "</table>\n",
       "</div>"
      ],
      "text/plain": [
       "      PMID        MeshID   Mentions     Resource\n",
       "0        1  MESH:D000432   methanol  tmChem|MESH\n",
       "1        1  MESH:D005561    Formate         MESH\n",
       "2       10  MESH:D004074  Digitoxin         MESH\n",
       "3     1000  MESH:D009249       NADP         MESH\n",
       "4  1000001  MESH:D002118    calcium  tmChem|MESH"
      ]
     },
     "execution_count": 17,
     "metadata": {},
     "output_type": "execute_result"
    }
   ],
   "source": [
    "chem_ds.head()"
   ]
  },
  {
   "cell_type": "code",
   "execution_count": 18,
   "metadata": {},
   "outputs": [
    {
     "data": {
      "text/plain": [
       "PMID         int64\n",
       "MeshID      object\n",
       "Mentions    object\n",
       "Resource    object\n",
       "dtype: object"
      ]
     },
     "execution_count": 18,
     "metadata": {},
     "output_type": "execute_result"
    }
   ],
   "source": [
    "chem_ds.dtypes"
   ]
  },
  {
   "cell_type": "code",
   "execution_count": 19,
   "metadata": {},
   "outputs": [],
   "source": [
    "chem_ds = chem_ds[:5000]"
   ]
  },
  {
   "cell_type": "code",
   "execution_count": 20,
   "metadata": {},
   "outputs": [],
   "source": [
    "def convert_to_str(data):\n",
    "    return str(data)"
   ]
  },
  {
   "cell_type": "code",
   "execution_count": 29,
   "metadata": {},
   "outputs": [
    {
     "name": "stdout",
     "output_type": "stream",
     "text": [
      "CPU times: user 1.88 ms, sys: 110 µs, total: 1.99 ms\n",
      "Wall time: 1.96 ms\n"
     ]
    }
   ],
   "source": [
    "%time chem_ds['Resource'] = chem_ds['Resource'].map(convert_to_str)"
   ]
  },
  {
   "cell_type": "code",
   "execution_count": 31,
   "metadata": {},
   "outputs": [
    {
     "data": {
      "text/plain": [
       "PMID         int64\n",
       "MeshID      object\n",
       "Mentions    object\n",
       "Resource    object\n",
       "dtype: object"
      ]
     },
     "execution_count": 31,
     "metadata": {},
     "output_type": "execute_result"
    }
   ],
   "source": [
    "chem_ds.dtypes"
   ]
  },
  {
   "cell_type": "code",
   "execution_count": 24,
   "metadata": {},
   "outputs": [],
   "source": [
    "def convert_resource_to_str(data):\n",
    "    data['Resource'] = data['Resource'].apply(lambda x: str(x))\n",
    "    return data"
   ]
  },
  {
   "cell_type": "code",
   "execution_count": 25,
   "metadata": {},
   "outputs": [
    {
     "name": "stdout",
     "output_type": "stream",
     "text": [
      "8\n"
     ]
    }
   ],
   "source": [
    "import numpy as np\n",
    "from multiprocessing import cpu_count\n",
    "\n",
    "num_cores = cpu_count()\n",
    "print(str(num_cores))\n",
    "\n",
    "def parallelize(df, func):\n",
    "    data_split = np.array_split(df, num_cores)\n",
    "    pool = multiprocessing.Pool(num_cores)\n",
    "    data = pd.concat(pool.map(func, data_split))\n",
    "    pool.close()\n",
    "    pool.join()\n",
    "    return df"
   ]
  },
  {
   "cell_type": "code",
   "execution_count": 26,
   "metadata": {},
   "outputs": [
    {
     "name": "stdout",
     "output_type": "stream",
     "text": [
      "CPU times: user 20.9 ms, sys: 41.2 ms, total: 62.1 ms\n",
      "Wall time: 153 ms\n"
     ]
    },
    {
     "data": {
      "text/html": [
       "<div>\n",
       "<style scoped>\n",
       "    .dataframe tbody tr th:only-of-type {\n",
       "        vertical-align: middle;\n",
       "    }\n",
       "\n",
       "    .dataframe tbody tr th {\n",
       "        vertical-align: top;\n",
       "    }\n",
       "\n",
       "    .dataframe thead th {\n",
       "        text-align: right;\n",
       "    }\n",
       "</style>\n",
       "<table border=\"1\" class=\"dataframe\">\n",
       "  <thead>\n",
       "    <tr style=\"text-align: right;\">\n",
       "      <th></th>\n",
       "      <th>PMID</th>\n",
       "      <th>MeshID</th>\n",
       "      <th>Mentions</th>\n",
       "      <th>Resource</th>\n",
       "    </tr>\n",
       "  </thead>\n",
       "  <tbody>\n",
       "    <tr>\n",
       "      <th>0</th>\n",
       "      <td>1</td>\n",
       "      <td>MESH:D000432</td>\n",
       "      <td>methanol</td>\n",
       "      <td>tmChem|MESH</td>\n",
       "    </tr>\n",
       "    <tr>\n",
       "      <th>1</th>\n",
       "      <td>1</td>\n",
       "      <td>MESH:D005561</td>\n",
       "      <td>Formate</td>\n",
       "      <td>MESH</td>\n",
       "    </tr>\n",
       "    <tr>\n",
       "      <th>2</th>\n",
       "      <td>10</td>\n",
       "      <td>MESH:D004074</td>\n",
       "      <td>Digitoxin</td>\n",
       "      <td>MESH</td>\n",
       "    </tr>\n",
       "    <tr>\n",
       "      <th>3</th>\n",
       "      <td>1000</td>\n",
       "      <td>MESH:D009249</td>\n",
       "      <td>NADP</td>\n",
       "      <td>MESH</td>\n",
       "    </tr>\n",
       "    <tr>\n",
       "      <th>4</th>\n",
       "      <td>1000001</td>\n",
       "      <td>MESH:D002118</td>\n",
       "      <td>calcium</td>\n",
       "      <td>tmChem|MESH</td>\n",
       "    </tr>\n",
       "    <tr>\n",
       "      <th>5</th>\n",
       "      <td>1000001</td>\n",
       "      <td>MESH:D008274</td>\n",
       "      <td>magnesium</td>\n",
       "      <td>tmChem|MESH</td>\n",
       "    </tr>\n",
       "    <tr>\n",
       "      <th>6</th>\n",
       "      <td>1000002</td>\n",
       "      <td>MESH:D011374</td>\n",
       "      <td>progesterone</td>\n",
       "      <td>MESH|tmChem</td>\n",
       "    </tr>\n",
       "    <tr>\n",
       "      <th>7</th>\n",
       "      <td>1000003</td>\n",
       "      <td>MESH:D011188</td>\n",
       "      <td>potassium</td>\n",
       "      <td>tmChem|MESH</td>\n",
       "    </tr>\n",
       "    <tr>\n",
       "      <th>8</th>\n",
       "      <td>1000003</td>\n",
       "      <td>MESH:D012964</td>\n",
       "      <td>sodium</td>\n",
       "      <td>MESH|tmChem</td>\n",
       "    </tr>\n",
       "    <tr>\n",
       "      <th>9</th>\n",
       "      <td>1000004</td>\n",
       "      <td>MESH:D014529</td>\n",
       "      <td>uridine</td>\n",
       "      <td>MESH</td>\n",
       "    </tr>\n",
       "    <tr>\n",
       "      <th>...</th>\n",
       "      <td>...</td>\n",
       "      <td>...</td>\n",
       "      <td>...</td>\n",
       "      <td>...</td>\n",
       "    </tr>\n",
       "    <tr>\n",
       "      <th>4990</th>\n",
       "      <td>1002685</td>\n",
       "      <td>MESH:D005227</td>\n",
       "      <td>fatty acid</td>\n",
       "      <td>MESH</td>\n",
       "    </tr>\n",
       "    <tr>\n",
       "      <th>4991</th>\n",
       "      <td>10026857</td>\n",
       "      <td>MESH:D000171</td>\n",
       "      <td>acrolein</td>\n",
       "      <td>CTD|tmChem</td>\n",
       "    </tr>\n",
       "    <tr>\n",
       "      <th>4992</th>\n",
       "      <td>10026857</td>\n",
       "      <td>MESH:D003520</td>\n",
       "      <td>cyclophosphamide</td>\n",
       "      <td>tmChem|MESH|CTD</td>\n",
       "    </tr>\n",
       "    <tr>\n",
       "      <th>4993</th>\n",
       "      <td>10026857</td>\n",
       "      <td>MESH:D007069</td>\n",
       "      <td>ifosfamide</td>\n",
       "      <td>MESH|CTD|tmChem</td>\n",
       "    </tr>\n",
       "    <tr>\n",
       "      <th>4994</th>\n",
       "      <td>10026858</td>\n",
       "      <td>MESH:C100099</td>\n",
       "      <td>CB1954</td>\n",
       "      <td>tmChem|MESH</td>\n",
       "    </tr>\n",
       "    <tr>\n",
       "      <th>4995</th>\n",
       "      <td>1002686</td>\n",
       "      <td>MESH:D004837</td>\n",
       "      <td>Adrenaline|adrenaline</td>\n",
       "      <td>MESH|tmChem</td>\n",
       "    </tr>\n",
       "    <tr>\n",
       "      <th>4996</th>\n",
       "      <td>10026860</td>\n",
       "      <td>MESH:D005437</td>\n",
       "      <td>5-fluorocytosine</td>\n",
       "      <td>MESH</td>\n",
       "    </tr>\n",
       "    <tr>\n",
       "      <th>4997</th>\n",
       "      <td>10026865</td>\n",
       "      <td>MESH:D002945</td>\n",
       "      <td>cisplatin</td>\n",
       "      <td>tmChem|MESH</td>\n",
       "    </tr>\n",
       "    <tr>\n",
       "      <th>4998</th>\n",
       "      <td>10026866</td>\n",
       "      <td>MESH:D007211</td>\n",
       "      <td>indole</td>\n",
       "      <td>MESH</td>\n",
       "    </tr>\n",
       "    <tr>\n",
       "      <th>4999</th>\n",
       "      <td>10026868</td>\n",
       "      <td>MESH:D017452</td>\n",
       "      <td>Fc gamma RIII</td>\n",
       "      <td>MESH</td>\n",
       "    </tr>\n",
       "  </tbody>\n",
       "</table>\n",
       "<p>5000 rows × 4 columns</p>\n",
       "</div>"
      ],
      "text/plain": [
       "          PMID        MeshID               Mentions         Resource\n",
       "0            1  MESH:D000432               methanol      tmChem|MESH\n",
       "1            1  MESH:D005561                Formate             MESH\n",
       "2           10  MESH:D004074              Digitoxin             MESH\n",
       "3         1000  MESH:D009249                   NADP             MESH\n",
       "4      1000001  MESH:D002118                calcium      tmChem|MESH\n",
       "5      1000001  MESH:D008274              magnesium      tmChem|MESH\n",
       "6      1000002  MESH:D011374           progesterone      MESH|tmChem\n",
       "7      1000003  MESH:D011188              potassium      tmChem|MESH\n",
       "8      1000003  MESH:D012964                 sodium      MESH|tmChem\n",
       "9      1000004  MESH:D014529                uridine             MESH\n",
       "...        ...           ...                    ...              ...\n",
       "4990   1002685  MESH:D005227             fatty acid             MESH\n",
       "4991  10026857  MESH:D000171               acrolein       CTD|tmChem\n",
       "4992  10026857  MESH:D003520       cyclophosphamide  tmChem|MESH|CTD\n",
       "4993  10026857  MESH:D007069             ifosfamide  MESH|CTD|tmChem\n",
       "4994  10026858  MESH:C100099                 CB1954      tmChem|MESH\n",
       "4995   1002686  MESH:D004837  Adrenaline|adrenaline      MESH|tmChem\n",
       "4996  10026860  MESH:D005437       5-fluorocytosine             MESH\n",
       "4997  10026865  MESH:D002945              cisplatin      tmChem|MESH\n",
       "4998  10026866  MESH:D007211                 indole             MESH\n",
       "4999  10026868  MESH:D017452          Fc gamma RIII             MESH\n",
       "\n",
       "[5000 rows x 4 columns]"
      ]
     },
     "execution_count": 26,
     "metadata": {},
     "output_type": "execute_result"
    }
   ],
   "source": [
    "%time parallelize(chem_ds, convert_resource_to_str)"
   ]
  },
  {
   "cell_type": "code",
   "execution_count": 27,
   "metadata": {},
   "outputs": [],
   "source": [
    "def serial_df():\n",
    "    for i, row in chem_ds.iterrows():\n",
    "        row['Resource'] = str(row['Resource'])"
   ]
  },
  {
   "cell_type": "code",
   "execution_count": 28,
   "metadata": {},
   "outputs": [
    {
     "name": "stdout",
     "output_type": "stream",
     "text": [
      "CPU times: user 310 ms, sys: 1.97 ms, total: 312 ms\n",
      "Wall time: 312 ms\n"
     ]
    }
   ],
   "source": [
    "%time serial_df()"
   ]
  },
  {
   "cell_type": "code",
   "execution_count": null,
   "metadata": {},
   "outputs": [],
   "source": []
  }
 ],
 "metadata": {
  "kernelspec": {
   "display_name": "Python 3",
   "language": "python",
   "name": "python3"
  },
  "language_info": {
   "codemirror_mode": {
    "name": "ipython",
    "version": 3
   },
   "file_extension": ".py",
   "mimetype": "text/x-python",
   "name": "python",
   "nbconvert_exporter": "python",
   "pygments_lexer": "ipython3",
   "version": "3.6.4"
  }
 },
 "nbformat": 4,
 "nbformat_minor": 2
}
