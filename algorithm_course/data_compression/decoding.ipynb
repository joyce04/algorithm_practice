{
 "cells": [
  {
   "cell_type": "code",
   "execution_count": 6,
   "metadata": {},
   "outputs": [],
   "source": [
    "def decoding(data):\n",
    "    d_out = []\n",
    "    for (n, c) in data:\n",
    "        d_out.append(c if n == 0 else d_out[n-1] + c)\n",
    "    return ''.join(d_out)"
   ]
  },
  {
   "cell_type": "code",
   "execution_count": 7,
   "metadata": {},
   "outputs": [],
   "source": [
    "def read_file(file_name):\n",
    "    with open(file_name, 'r') as f:\n",
    "        data = ''.join(f.readlines())\n",
    "    return data"
   ]
  },
  {
   "cell_type": "code",
   "execution_count": 9,
   "metadata": {},
   "outputs": [],
   "source": [
    "def decompress(compressed_file, decompressed_file):\n",
    "        import struct \n",
    "        bin_file = open(compressed_file, 'rb')\n",
    "        bin_type = {2: 'Bc', 3: 'Hc', 4: 'Ic', 5: 'Ic'}\n",
    "        \n",
    "        encoded_data = []\n",
    "        seq = 0\n",
    "        \n",
    "        while True:\n",
    "            # when sequence is less than 256 (2^8 = 1 byte)\n",
    "            # 2 byte = 1 byte of idx and 1 byte of ascii code for char\n",
    "            if seq <= 255:\n",
    "                bin_size = 2\n",
    "            # when sequence is less than 65536 ((2^8)^2 = 2 byte)\n",
    "            # 3 byte = 2 byte of idx and 1 byte of ascii code for char\n",
    "            elif seq <= 65535:\n",
    "                bin_size = 3\n",
    "            # when sequence is less than 16777216 (((2^8)^2)^2 = 2 byte)\n",
    "            # 4 byte = 3 byte of idx and 1 byte of ascii code for char\n",
    "            elif seq <= 16777215:\n",
    "                bin_size = 4\n",
    "            # when sequence is greater than 16777216 (((2^8)^2)^2 = 2 byte)\n",
    "            # 5 byte = 4 byte of idx and 1 byte of ascii code for char\n",
    "            else:\n",
    "                bin_size = 5\n",
    "            \n",
    "            # read by bin_size determined by the sequence index\n",
    "            binary = bin_file.read(bin_size)\n",
    "            \n",
    "            # check the end of the file\n",
    "            if binary == b'': \n",
    "                break \n",
    "                \n",
    "            # when bin_size 4, need to add \\x00 as 4th byte because I've removed the last byte for compression\n",
    "            if bin_size ==4:\n",
    "                encoded_data.append(struct.unpack(bin_type[bin_size], b''.join([binary[0:3], b'\\x00', binary[3:]])))\n",
    "            else:\n",
    "                encoded_data.append(struct.unpack(bin_type[bin_size], binary))\n",
    "            \n",
    "            seq += 1\n",
    "        \n",
    "        if encoded_data[-1][1] == b'\\x00':\n",
    "            encoded_data[-1] = (encoded_data[-1][0], b'')\n",
    "            \n",
    "        encoded_data = [(d[0], d[1].decode()) for d in encoded_data]\n",
    "        decoded_data = decoding(encoded_data)\n",
    "        \n",
    "        with open(decompressed_file, 'w') as decompressed_file:\n",
    "            decompressed_file.write(decoded_data)"
   ]
  }
 ],
 "metadata": {
  "kernelspec": {
   "display_name": "Python 3",
   "language": "python",
   "name": "python3"
  },
  "language_info": {
   "codemirror_mode": {
    "name": "ipython",
    "version": 3
   },
   "file_extension": ".py",
   "mimetype": "text/x-python",
   "name": "python",
   "nbconvert_exporter": "python",
   "pygments_lexer": "ipython3",
   "version": "3.6.4"
  }
 },
 "nbformat": 4,
 "nbformat_minor": 2
}
