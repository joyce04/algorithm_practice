{
 "cells": [
  {
   "cell_type": "code",
   "execution_count": 2,
   "metadata": {},
   "outputs": [],
   "source": [
    "# USE TRIE for encoding dictionary and INCLUDE comments\n",
    "# possile alphabet = [a-zA-Z0-9?! ,.;:\\n]"
   ]
  },
  {
   "cell_type": "code",
   "execution_count": 3,
   "metadata": {},
   "outputs": [],
   "source": [
    "# encoding\n",
    "# use arary format trie similar to aho-corasick implementation\n",
    "# total number of possible alphabets is 70 -> default dictionary is size of 70\n",
    "# With char dictionary, each column of each char can be found by char itself as index\n",
    "\n",
    "def get_default_trie(data):\n",
    "    # possible alphabets = [a-zA-Z0-9 !?,.;:\\n]\n",
    "    pos_chars = [i for i in range(ord('a'), ord('z')+1)] + \\\n",
    "                [i for i in range(ord('A'), ord('Z')+1)] + \\\n",
    "                [i for i in range(ord('0'), ord('9')+1)] + \\\n",
    "                [ord('!'), ord('?'), ord(' '), ord(','), ord('.'), ord(':'), ord(';'), ord('\\n')]\n",
    "    available_char_dict = {}\n",
    "    for i, c in enumerate(pos_chars):\n",
    "        available_char_dict[chr(c)] = i\n",
    "\n",
    "    # initialize each cell with -1 to compare whether the given pattern does exist in the dictionary\n",
    "    default_trie = [[-1]*70 for _ in range(len(data))]\n",
    "    return default_trie, available_char_dict"
   ]
  },
  {
   "cell_type": "code",
   "execution_count": 5,
   "metadata": {},
   "outputs": [],
   "source": [
    "def encoding(data):\n",
    "     # build default trie and char dictionary\n",
    "    trie, char_dic = get_default_trie(data)\n",
    "    out = []\n",
    "\n",
    "    present_state = 0\n",
    "    data_state = 1\n",
    "\n",
    "    for i in range(len(data)):#c in data:\n",
    "        c = data[i]\n",
    "        char = char_dic[c]\n",
    "        # if there is no matching char in the trie\n",
    "        if trie[present_state][char] == -1:\n",
    "            trie[present_state][char] = data_state\n",
    "            out.append((present_state, c))\n",
    "\n",
    "            # reset for search\n",
    "            present_state = 0\n",
    "            data_state += 1\n",
    "        # if matching prefix char exists in the trie\n",
    "        else:\n",
    "            present_state = trie[present_state][char]\n",
    "            \n",
    "    # if pattern exists in the trie\n",
    "    if present_state >0:\n",
    "        out.append((present_state, ''))\n",
    "            \n",
    "    return out"
   ]
  },
  {
   "cell_type": "code",
   "execution_count": 7,
   "metadata": {},
   "outputs": [],
   "source": [
    "def read_file(file_name):\n",
    "    with open(file_name, 'r') as f:\n",
    "        data = ''.join(f.readlines())\n",
    "    return data"
   ]
  },
  {
   "cell_type": "code",
   "execution_count": 8,
   "metadata": {},
   "outputs": [],
   "source": [
    "def compress(origin_file, compressed_file):\n",
    "    import struct\n",
    "\n",
    "    data = read_file(origin_file)\n",
    "    encoded_data = encoding(data)\n",
    "\n",
    "    with open(compressed_file, 'wb') as compressed_file:\n",
    "        for i, (idx, ch) in enumerate(encoded_data):\n",
    "            save_char = ch.encode() if len(ch) > 0 else b'\\x00'\n",
    "            \n",
    "            # when sequence is less than 256 (2^8 = 1 byte)\n",
    "            # 2 byte = 1 byte of idx and 1 byte of ascii code for char\n",
    "            if i <= 255:\n",
    "                data = struct.pack('Bc', idx, save_char)\n",
    "                compressed_file.write(data) \n",
    "            # when sequence is less than 65536 ((2^8)^2 = 2 byte)\n",
    "            # 3 byte = 2 byte of idx and 1 byte of ascii code for char\n",
    "            elif i <= 65535:\n",
    "                data = struct.pack('Hc', idx, save_char)\n",
    "                compressed_file.write(data) \n",
    "            # when sequence is less than 16777216 (((2^8)^2)^2 = 2 byte)\n",
    "            # 4 byte = 3 byte of idx and 1 byte of ascii code for char\n",
    "            elif i <= 16777215:\n",
    "                data = struct.pack('Ic', idx, save_char)\n",
    "                compressed_file.write(b''.join([data[0:3], data[4:]])) \n",
    "            # when sequence is greater than 16777216 (((2^8)^2)^2 = 2 byte)\n",
    "            # 5 byte = 4 byte of idx and 1 byte of ascii code for char\n",
    "            else:\n",
    "                data = struct.pack('Ic', idx, save_char)\n",
    "                compressed_file.write(data)            "
   ]
  }
 ],
 "metadata": {
  "kernelspec": {
   "display_name": "Python 3",
   "language": "python",
   "name": "python3"
  },
  "language_info": {
   "codemirror_mode": {
    "name": "ipython",
    "version": 3
   },
   "file_extension": ".py",
   "mimetype": "text/x-python",
   "name": "python",
   "nbconvert_exporter": "python",
   "pygments_lexer": "ipython3",
   "version": "3.6.4"
  }
 },
 "nbformat": 4,
 "nbformat_minor": 2
}
